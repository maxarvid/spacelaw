{
 "cells": [
  {
   "cell_type": "code",
   "execution_count": 1,
   "metadata": {},
   "outputs": [],
   "source": [
    "import pandas as pd\n",
    "\n",
    "%matplotlib inline\n",
    "pd.set_option('max_colwidth', -1)"
   ]
  },
  {
   "cell_type": "code",
   "execution_count": 2,
   "metadata": {},
   "outputs": [
    {
     "data": {
      "text/html": [
       "<div>\n",
       "<style scoped>\n",
       "    .dataframe tbody tr th:only-of-type {\n",
       "        vertical-align: middle;\n",
       "    }\n",
       "\n",
       "    .dataframe tbody tr th {\n",
       "        vertical-align: top;\n",
       "    }\n",
       "\n",
       "    .dataframe thead th {\n",
       "        text-align: right;\n",
       "    }\n",
       "</style>\n",
       "<table border=\"1\" class=\"dataframe\">\n",
       "  <thead>\n",
       "    <tr style=\"text-align: right;\">\n",
       "      <th></th>\n",
       "      <th>country</th>\n",
       "      <th>name</th>\n",
       "      <th>url</th>\n",
       "    </tr>\n",
       "  </thead>\n",
       "  <tbody>\n",
       "    <tr>\n",
       "      <th>0</th>\n",
       "      <td>Argentina</td>\n",
       "      <td>National Decree No. 995/91, Creation of the National Commission on Space Activities (28 May 1991)</td>\n",
       "      <td>http://www.conae.gov.ar/images/legislacion/l99591.pdf</td>\n",
       "    </tr>\n",
       "    <tr>\n",
       "      <th>1</th>\n",
       "      <td>Argentina</td>\n",
       "      <td>National Decree No. 125/95, Establishment of the National Registry of Objects Launched into Outer Space (25 July 1995)</td>\n",
       "      <td>http://www.conae.gov.ar/images/legislacion/l12595.pdf</td>\n",
       "    </tr>\n",
       "    <tr>\n",
       "      <th>2</th>\n",
       "      <td>Australia</td>\n",
       "      <td>Space Activities Act 1998 (No. 123, 1998) (as amended, taking into account amendments up to Act No. 8 of 2010)</td>\n",
       "      <td>http://www.comlaw.gov.au/Details/C2010C00193</td>\n",
       "    </tr>\n",
       "    <tr>\n",
       "      <th>3</th>\n",
       "      <td>Australia</td>\n",
       "      <td>Space Activities Regulations 2001)</td>\n",
       "      <td>http://www.comlaw.gov.au/Details/F2004C00906</td>\n",
       "    </tr>\n",
       "    <tr>\n",
       "      <th>4</th>\n",
       "      <td>Austria</td>\n",
       "      <td>Authorization of Space Activities and the Estabishment of a National Space Registry (Austrian Outer Space Act)</td>\n",
       "      <td>http://www.ris.bka.gv.at/Dokument.wxe?Abfrage=BgblAuth&amp;Dokumentnummer=BGBLA_2011_I_132</td>\n",
       "    </tr>\n",
       "  </tbody>\n",
       "</table>\n",
       "</div>"
      ],
      "text/plain": [
       "     country  \\\n",
       "0  Argentina   \n",
       "1  Argentina   \n",
       "2  Australia   \n",
       "3  Australia   \n",
       "4  Austria     \n",
       "\n",
       "                                                                                                                     name  \\\n",
       "0  National Decree No. 995/91, Creation of the National Commission on Space Activities (28 May 1991)                        \n",
       "1  National Decree No. 125/95, Establishment of the National Registry of Objects Launched into Outer Space (25 July 1995)   \n",
       "2  Space Activities Act 1998 (No. 123, 1998) (as amended, taking into account amendments up to Act No. 8 of 2010)           \n",
       "3  Space Activities Regulations 2001)                                                                                       \n",
       "4  Authorization of Space Activities and the Estabishment of a National Space Registry (Austrian Outer Space Act)           \n",
       "\n",
       "                                                                                      url  \n",
       "0  http://www.conae.gov.ar/images/legislacion/l99591.pdf                                   \n",
       "1  http://www.conae.gov.ar/images/legislacion/l12595.pdf                                   \n",
       "2  http://www.comlaw.gov.au/Details/C2010C00193                                            \n",
       "3  http://www.comlaw.gov.au/Details/F2004C00906                                            \n",
       "4  http://www.ris.bka.gv.at/Dokument.wxe?Abfrage=BgblAuth&Dokumentnummer=BGBLA_2011_I_132  "
      ]
     },
     "execution_count": 2,
     "metadata": {},
     "output_type": "execute_result"
    }
   ],
   "source": [
    "df = pd.read_csv('national_space_laws.csv')\n",
    "df.head()"
   ]
  },
  {
   "cell_type": "code",
   "execution_count": 5,
   "metadata": {},
   "outputs": [],
   "source": [
    "national_law_count = df.country.value_counts()"
   ]
  },
  {
   "cell_type": "code",
   "execution_count": 7,
   "metadata": {},
   "outputs": [],
   "source": [
    "national_law_count.to_csv('national_law_count.csv', index=True)"
   ]
  },
  {
   "cell_type": "code",
   "execution_count": null,
   "metadata": {},
   "outputs": [],
   "source": []
  }
 ],
 "metadata": {
  "kernelspec": {
   "display_name": "Python 3",
   "language": "python",
   "name": "python3"
  },
  "language_info": {
   "codemirror_mode": {
    "name": "ipython",
    "version": 3
   },
   "file_extension": ".py",
   "mimetype": "text/x-python",
   "name": "python",
   "nbconvert_exporter": "python",
   "pygments_lexer": "ipython3",
   "version": "3.6.4"
  }
 },
 "nbformat": 4,
 "nbformat_minor": 2
}
